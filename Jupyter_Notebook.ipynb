{
 "cells": [
  {
   "cell_type": "markdown",
   "metadata": {},
   "source": [
    "<center>\n",
    "    <img src=\"https://cf-courses-data.s3.us.cloud-object-storage.appdomain.cloud/IBMDeveloperSkillsNetwork-DS0105EN-SkillsNetwork/labs/Module2/images/SN_web_lightmode.png\" width=\"300\" alt=\"cognitiveclass.ai logo\">\n",
    "</center>\n"
   ]
  },
  {
   "cell_type": "markdown",
   "metadata": {},
   "source": [
    "#### Add your code below following the instructions given in the course"
   ]
  },
  {
   "cell_type": "markdown",
   "metadata": {},
   "source": [
    "# Ejercicio en Jupyter Notebook\n",
    "### --------------------------------------------------\n",
    "## José Manuel Liza Avalos\n",
    "## código: u202322424"
   ]
  },
  {
   "cell_type": "markdown",
   "metadata": {},
   "source": [
    "### \n",
    "### Ejercicios seguidos en el curso\n",
    "### "
   ]
  },
  {
   "cell_type": "code",
   "execution_count": 2,
   "metadata": {
    "tags": []
   },
   "outputs": [
    {
     "data": {
      "text/plain": [
       "1080"
      ]
     },
     "execution_count": 2,
     "metadata": {},
     "output_type": "execute_result"
    }
   ],
   "source": [
    "# Calculo de formulas\n",
    "# (15 + 25)*27\n",
    "(15 + 25)*27"
   ]
  },
  {
   "cell_type": "code",
   "execution_count": 3,
   "metadata": {
    "tags": []
   },
   "outputs": [],
   "source": [
    "# Formatos"
   ]
  },
  {
   "cell_type": "markdown",
   "metadata": {},
   "source": [
    "**Negrita**"
   ]
  },
  {
   "cell_type": "markdown",
   "metadata": {},
   "source": [
    "*Cursiva*"
   ]
  },
  {
   "cell_type": "markdown",
   "metadata": {},
   "source": [
    "***Negrita cursiva***"
   ]
  },
  {
   "cell_type": "code",
   "execution_count": null,
   "metadata": {},
   "outputs": [],
   "source": [
    "# Creación de hipervínculos"
   ]
  },
  {
   "cell_type": "markdown",
   "metadata": {
    "tags": []
   },
   "source": [
    "##### Si deseas conocer las vacunas que ya has obtenido, haz click en el siguiente enlace\n",
    "[Carné de vacunación MINSA](https://carnetvacunacion.minsa.gob.pe/#/auth)"
   ]
  },
  {
   "cell_type": "markdown",
   "metadata": {},
   "source": [
    "Minsa ![Lo vacuno, lo protejo](https://carnetvacunacion.minsa.gob.pe/assets/logotipo.png)"
   ]
  },
  {
   "cell_type": "code",
   "execution_count": null,
   "metadata": {},
   "outputs": [],
   "source": []
  },
  {
   "cell_type": "code",
   "execution_count": 6,
   "metadata": {
    "tags": []
   },
   "outputs": [],
   "source": [
    "#Elaboración de cuadros"
   ]
  },
  {
   "cell_type": "markdown",
   "metadata": {},
   "source": [
    "#### Noticias sobre el Dengue\n",
    "##### El Instituto Nacional de Salud presentó avances del desarroo de la vacuna contra el Dengue, aquí un cuadro referencial:\n",
    "#####\n",
    "##### Vacunas autorizadas para el uso\n",
    "| Fabricante | Vacuna | Esquema de vacunación | Año autorización | Precalificación |\n",
    "| ---------- | ------ | --------------------- | ---------------- | --------------- |\n",
    "| Sanofi | CYD-TDV | 3 dosis SC (0,6,12 meses) | 2015 | Si |\n",
    "| Takeda | TAK-003 | 2 dosis SC (0,3 meses) | 2022 | No |\n",
    "####\n",
    "#### Más información en: [Nota de prensa INS](https://www.gob.pe/institucion/ins/noticias/812289-instituto-nacional-de-salud-presento-avances-en-el-desarrollo-y-uso-de-vacunas-contra-el-dengue)"
   ]
  },
  {
   "cell_type": "code",
   "execution_count": null,
   "metadata": {},
   "outputs": [],
   "source": []
  },
  {
   "cell_type": "code",
   "execution_count": null,
   "metadata": {},
   "outputs": [],
   "source": []
  }
 ],
 "metadata": {
  "kernelspec": {
   "display_name": "Python",
   "language": "python",
   "name": "conda-env-python-py"
  },
  "language_info": {
   "codemirror_mode": {
    "name": "ipython",
    "version": 3
   },
   "file_extension": ".py",
   "mimetype": "text/x-python",
   "name": "python",
   "nbconvert_exporter": "python",
   "pygments_lexer": "ipython3",
   "version": "3.7.12"
  }
 },
 "nbformat": 4,
 "nbformat_minor": 4
}
